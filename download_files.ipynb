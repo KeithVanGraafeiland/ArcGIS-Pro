{
 "cells": [
  {
   "cell_type": "code",
   "execution_count": null,
   "metadata": {},
   "outputs": [],
   "source": [
    "import requests\n",
    "import re\n",
    "from bs4 import BeautifulSoup\n",
    "import arcpy\n",
    "import os\n",
    "import urllib.request\n",
    "arcpy.env.overwriteOutput = True\n",
    "  \n",
    "url = 'https://www.oceanic.udel.edu/globaldataview/rt_content/ships/geojson/hourly/'\n",
    "reqs = requests.get(url)\n",
    "soup = BeautifulSoup(reqs.text, 'html.parser')\n",
    "download_dir = r\"D:\\ArcGIS Pro Projects VOL2\\UDel 3D Globe\\data\"\n",
    "GDB = r\"D:\\ArcGIS Pro Projects VOL2\\UDel 3D Globe\\UDel 3D Globe.gdb\"\n",
    "arcpy.env.workspace = download_dir\n",
    "\n",
    "urls = []\n",
    "for link in soup.find_all('a',string=re.compile(\".json\"),limit=10):\n",
    "# for link in soup.find_all('a',string=re.compile(\".json\")):\n",
    "    full_url = ('https://www.oceanic.udel.edu'+ link.get('href'))\n",
    "    json_filename = (full_url.split('/')[8])\n",
    "    json_fullpath = str(os.path.join(download_dir , json_filename))\n",
    "    fc_name = (json_filename.split('.')[0]).replace('-','_')\n",
    "    fc_path = str(os.path.join(GDB,fc_name))\n",
    "    jsonfile = urllib.request\n",
    "    if not os.path.exists(json_fullpath):\n",
    "        try:\n",
    "            jsonfile.urlretrieve(full_url, json_fullpath)\n",
    "            arcpy.conversion.JSONToFeatures(json_fullpath, fc_path, 'POINT')\n",
    "            print(\"File \" + json_filename + \" successfully processed!\")\n",
    "        except:\n",
    "            print(\"***File \" + json_filename + \" FAILED***\")\n",
    "            pass\n"
   ]
  },
  {
   "cell_type": "code",
   "execution_count": null,
   "metadata": {},
   "outputs": [],
   "source": [
    "import os\n",
    "from pathlib import Path\n",
    "\n",
    "directory = str(Path(GDB).parents[0]) + '\\\\analysis'\n",
    "print(directory)\n",
    "if not os.path.exists(directory):\n",
    "    os.makedirs(directory)"
   ]
  },
  {
   "cell_type": "code",
   "execution_count": null,
   "metadata": {},
   "outputs": [],
   "source": [
    "## Create a empty file geodatabase\n",
    "arcpy.management.CreateFileGDB(directory, 'Research_Vessels', out_version='CURRENT')"
   ]
  },
  {
   "cell_type": "code",
   "execution_count": null,
   "metadata": {},
   "outputs": [],
   "source": [
    "## Not tested below here "
   ]
  },
  {
   "cell_type": "code",
   "execution_count": 1,
   "metadata": {},
   "outputs": [],
   "source": [
    "import arcpy\n",
    "import os\n",
    "\n",
    "workspace = r\"D:\\ArcGIS Pro Projects VOL2\\UDel 3D Globe\\UDel 3D Globe.gdb\"\n",
    "feature_classes = []\n",
    "\n",
    "walk = arcpy.da.Walk(workspace, datatype=\"FeatureClass\", type=\"Point\")\n",
    "\n",
    "for dirpath, dirnames, filenames in walk:\n",
    "    for filename in filenames:\n",
    "        print(os.path.join(dirpath, filename))\n",
    "        # feature_classes.append(os.path.join(dirpath, filename))"
   ]
  },
  {
   "cell_type": "code",
   "execution_count": null,
   "metadata": {},
   "outputs": [],
   "source": [
    "import os\n",
    "import arcpy\n",
    " \n",
    "def inventory_data(workspace, datatypes):\n",
    "    \"\"\"\n",
    "    Generates full path names under a catalog tree for all requested\n",
    "    datatype(s).\n",
    " \n",
    "    Parameters:\n",
    "    workspace: string\n",
    "        The top-level workspace that will be used.\n",
    "    datatypes: string | list | tuple\n",
    "        Keyword(s) representing the desired datatypes. A single\n",
    "        datatype can be expressed as a string, otherwise use\n",
    "        a list or tuple. See arcpy.da.Walk documentation \n",
    "        for a full list.\n",
    "    \"\"\"\n",
    "    for path, path_names, data_names in arcpy.da.Walk(\n",
    "            workspace, datatype=datatypes):\n",
    "        for data_name in data_names:\n",
    "            yield os.path.join(path, data_name)\n",
    " \n",
    " \n",
    "for feature_class in inventory_data(r\"D:\\ArcGIS Pro Projects VOL2\\UDel 3D Globe\\UDel 3D Globe.gdb\", \"FeatureClass\"):\n",
    "    print(feature_class)"
   ]
  },
  {
   "cell_type": "code",
   "execution_count": null,
   "metadata": {},
   "outputs": [],
   "source": [
    "## Create a empty file geodatabase\n",
    "# arcpy.management.CopyFeatures(in_features, out_feature_class, {config_keyword}, {spatial_grid_1}, {spatial_grid_2}, {spatial_grid_3})\n"
   ]
  },
  {
   "cell_type": "code",
   "execution_count": null,
   "metadata": {},
   "outputs": [],
   "source": [
    "## Create a feature class for all the merged ship tracks\n",
    "arcpy.management.CreateFeatureclass(out_path, out_name, template=\"\")"
   ]
  }
 ],
 "metadata": {
  "kernelspec": {
   "display_name": "Python 3",
   "language": "python",
   "name": "python3"
  },
  "language_info": {
   "codemirror_mode": {
    "name": "ipython",
    "version": 3
   },
   "file_extension": ".py",
   "mimetype": "text/x-python",
   "name": "python",
   "nbconvert_exporter": "python",
   "pygments_lexer": "ipython3",
   "version": "3.9.18"
  }
 },
 "nbformat": 4,
 "nbformat_minor": 2
}
